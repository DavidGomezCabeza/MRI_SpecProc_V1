{
 "cells": [
  {
   "cell_type": "markdown",
   "metadata": {},
   "source": [
    "# Load Functions and Packages"
   ]
  },
  {
   "cell_type": "code",
   "execution_count": 1,
   "metadata": {},
   "outputs": [],
   "source": [
    "import numpy as np\n",
    "import matplotlib.pyplot as plt\n",
    "import scipy as sp\n",
    "from scipy.fft import fft, fftfreq\n",
    "import itertools\n",
    "from mpl_toolkits.mplot3d import axes3d\n",
    "import matplotlib.pyplot as plt\n",
    "import matplotlib.animation as animation\n",
    "from sklearn.metrics import auc\n",
    "from tkinter.filedialog import askdirectory\n",
    "import tkinter as tk\n",
    "from ipywidgets import interact, widgets, fixed, interactive, HBox, Layout\n",
    "import pandas as pd\n",
    "from peakutils import baseline\n",
    "import os \n",
    "from tkinter import simpledialog\n",
    "from operator import contains\n",
    "import pickle\n",
    "import pybaselines\n",
    "from matplotlib import colormaps\n",
    "import matplotlib as mpl\n",
    "\n",
    "# Custom Functions\n",
    "from FunctionsProcessMulti_Longit import getDirsAll, getWellNum, extrMDAll, getTimeVec, getLB, ProcDatMult_Long, plotDatGen, interactPhase, appPhsBsl, interStack3D, interStack2D, genSumUpDat, interSumUpSp, getFWHM, getDatFuture, getSNR, interactIntegrals, getIntegrals, interIntegrals, interIntegralsRatios, procDatGen, shiftPPM"
   ]
  },
  {
   "cell_type": "markdown",
   "metadata": {},
   "source": [
    "# Select directory with the data and extract subexperiments folders automatically"
   ]
  },
  {
   "cell_type": "code",
   "execution_count": 18,
   "metadata": {},
   "outputs": [
    {
     "name": "stdout",
     "output_type": "stream",
     "text": [
      "EXPERIMENT PROCESSED INFORMATION:\n",
      "---------------------------------\n",
      "\n",
      "\n",
      "The following directory contains 1 subexperiments. \n",
      "\n",
      "Each sub experiment contains 1 sequential Slabs. \n",
      "\n",
      "The subexperiment 1 has 50 scans per slab. \n",
      "\n",
      "In the last processing, you selected an apodisation factor of 4.0. \n",
      "\n",
      "In the last processing, you selected 1 to 10 scans for the sum up final spectra. \n",
      "\n",
      "\n",
      "\n",
      " \n",
      "\n",
      "User Comments: \n",
      "\n",
      "Seems good\n"
     ]
    }
   ],
   "source": [
    "test, fldslst3, dircns, lngrps, lgtdt, stck, machi = getDirsAll(r\"C:\\IBECPostDocDrive\\2025_04_14_BIST_FertEyeExperiments\\BIST_MRI\")"
   ]
  },
  {
   "cell_type": "markdown",
   "metadata": {},
   "source": [
    "# Process Data"
   ]
  },
  {
   "cell_type": "code",
   "execution_count": null,
   "metadata": {},
   "outputs": [],
   "source": [
    "numWells = 1 # This is for more complex acquisitions with multiple regions. If so, change to the number of slabs done. \n",
    "metDat, indx, foldPath = extrMDAll(lngrps, test, lgtdt, machi) # Function to extract necessary metadata for each single pulse scan folder for each subexperiment and each well\n",
    "timVecs = getTimeVec(lngrps, numWells, lgtdt, metDat, machi) # Function to extract and compute the time vector for each time well and for each sub-experiment\n",
    "lineborad = getLB() # Ask user the factor desired for decaying exponential apodisation\n",
    "ppms, datFutmag, datFut, datco3, foldsDis = procDatGen(lgtdt, lngrps, metDat, numWells, foldPath, lineborad, machi, stck = stck,  xin = 76) # Function to extract the raw spectroscopic data, rearrange it into an FID, do MRI phase corrections and generate a fourier transform"
   ]
  },
  {
   "cell_type": "markdown",
   "metadata": {},
   "source": [
    "#### Plot FID"
   ]
  },
  {
   "cell_type": "code",
   "execution_count": 6,
   "metadata": {},
   "outputs": [
    {
     "data": {
      "application/vnd.jupyter.widget-view+json": {
       "model_id": "a6424f1bd6a84a2c9669312ee3b6e120",
       "version_major": 2,
       "version_minor": 0
      },
      "text/plain": [
       "interactive(children=(Dropdown(description='Sub.Exp.:', options=(1,), value=1), Dropdown(description='Slab:', …"
      ]
     },
     "metadata": {},
     "output_type": "display_data"
    }
   ],
   "source": [
    "plotDatGen(ppms, foldsDis, datco3, datFutmag, datFut, foldPath, metDat, machi, datyp = \"FID\")"
   ]
  },
  {
   "cell_type": "markdown",
   "metadata": {},
   "source": [
    "#### Plot magnitude spectra "
   ]
  },
  {
   "cell_type": "code",
   "execution_count": 76,
   "metadata": {},
   "outputs": [
    {
     "data": {
      "application/vnd.jupyter.widget-view+json": {
       "model_id": "15ea445e35af4b1dbaf0ede2255b7ffe",
       "version_major": 2,
       "version_minor": 0
      },
      "text/plain": [
       "interactive(children=(Dropdown(description='Sub.Exp.:', options=(1,), value=1), Dropdown(description='Slab:', …"
      ]
     },
     "metadata": {},
     "output_type": "display_data"
    }
   ],
   "source": [
    "plotDatGen(ppms, foldsDis, datco3, datFutmag, datFut, foldPath, datyp = \"mag\")"
   ]
  },
  {
   "cell_type": "markdown",
   "metadata": {},
   "source": [
    "#### Plot non-phased spectra"
   ]
  },
  {
   "cell_type": "code",
   "execution_count": 24,
   "metadata": {},
   "outputs": [
    {
     "data": {
      "application/vnd.jupyter.widget-view+json": {
       "model_id": "e4e5f073846e45d6aef0a80eb5fa51f0",
       "version_major": 2,
       "version_minor": 0
      },
      "text/plain": [
       "interactive(children=(Dropdown(description='Sub.Exp.:', options=(1,), value=1), Dropdown(description='Slab:', …"
      ]
     },
     "metadata": {},
     "output_type": "display_data"
    }
   ],
   "source": [
    "plotDatGen(ppms, foldsDis, datco3, datFutmag, datFut, foldPath, datyp = \"real\")"
   ]
  },
  {
   "cell_type": "code",
   "execution_count": null,
   "metadata": {},
   "outputs": [],
   "source": []
  },
  {
   "cell_type": "markdown",
   "metadata": {},
   "source": [
    "# Manual Phase Correction\n",
    "CAREFULL!!! Go spectra by spectra, but do not go back to one that is already phased or phase values will be overwriten. This will be fixed in latter releases"
   ]
  },
  {
   "cell_type": "code",
   "execution_count": 21,
   "metadata": {},
   "outputs": [],
   "source": [
    "interactPhase(foldPath, datFut) # This are the necessary functions to interactively do phase correction for all sub experiments and slab selections. "
   ]
  },
  {
   "cell_type": "code",
   "execution_count": null,
   "metadata": {},
   "outputs": [],
   "source": []
  },
  {
   "cell_type": "markdown",
   "metadata": {},
   "source": [
    "#### Visualise Corrected Data"
   ]
  },
  {
   "cell_type": "code",
   "execution_count": 22,
   "metadata": {},
   "outputs": [
    {
     "data": {
      "application/vnd.jupyter.widget-view+json": {
       "model_id": "b5584262240c48b0a844aa8e87b8e4aa",
       "version_major": 2,
       "version_minor": 0
      },
      "text/plain": [
       "interactive(children=(Dropdown(description='Sub.Exp.:', options=(1,), value=1), Dropdown(description='Slab:', …"
      ]
     },
     "metadata": {},
     "output_type": "display_data"
    }
   ],
   "source": [
    "phasePars, datFutPh, datFutPhBSl, datBaselines = appPhsBsl(foldPath, datFut, ppms, rdbc=False) # This function applyes the phase correction (and baseline correction) to your dataset iteratively. Set last parameter to true to re-do the baseline correction\n",
    "plotDatGen(ppms, foldsDis, datco3, datFutmag, datFutPhBSl, foldPath, datyp = \"phsd\")"
   ]
  },
  {
   "cell_type": "code",
   "execution_count": null,
   "metadata": {},
   "outputs": [],
   "source": []
  },
  {
   "cell_type": "markdown",
   "metadata": {},
   "source": [
    "# Plot Spectra Stacks"
   ]
  },
  {
   "cell_type": "markdown",
   "metadata": {},
   "source": [
    "#### 3D"
   ]
  },
  {
   "cell_type": "code",
   "execution_count": null,
   "metadata": {},
   "outputs": [
    {
     "data": {
      "application/vnd.jupyter.widget-view+json": {
       "model_id": "b588c0ee80dd413bad5060c26bfdcd8b",
       "version_major": 2,
       "version_minor": 0
      },
      "text/plain": [
       "interactive(children=(Dropdown(description='Sub.Exp.:', options=(1,), value=1), Dropdown(description='Slab:', …"
      ]
     },
     "metadata": {},
     "output_type": "display_data"
    }
   ],
   "source": [
    "clls = [\"#80000aff\", \"Red\", \"Green\", \"Blue\", \"Yellow\", \"Cyan\", \"Magenta\", \"Black\", \"Grey\"] # Add or remove any colour choices you desire for the plot.\n",
    "interStack3D(foldPath, datFutPhBSl, ppms, clls=clls, grad=False) # Functions to plot a stack of the spectra acquired in a 3D plot for better visualisation. Users can move the plot around, change colors and all the functions from the previous plots. \n",
    "\n",
    "# David: Change scan axis for time???\n"
   ]
  },
  {
   "cell_type": "markdown",
   "metadata": {},
   "source": [
    "#### 2D"
   ]
  },
  {
   "cell_type": "code",
   "execution_count": 55,
   "metadata": {},
   "outputs": [
    {
     "data": {
      "application/vnd.jupyter.widget-view+json": {
       "model_id": "27498f9afe794defb2fb2ebdae08feb1",
       "version_major": 2,
       "version_minor": 0
      },
      "text/plain": [
       "interactive(children=(Dropdown(description='Sub.Exp.:', options=(1,), value=1), Dropdown(description='Slab:', …"
      ]
     },
     "metadata": {},
     "output_type": "display_data"
    }
   ],
   "source": [
    "clls = [\"#80000aff\", \"Red\", \"Green\", \"Blue\", \"Yellow\", \"Cyan\", \"Magenta\", \"Black\", \"Grey\"] # Add or remove any colour choices you desire for the plot.\n",
    "interStack2D(foldPath, datFutPhBSl, ppms, clls = clls) # Functions to plot a stack of the spectra acquired in a 2D plot (MNova Style) for better visualisation. Users can move the plot around, change colors and all the functions from the previous plots. "
   ]
  },
  {
   "cell_type": "code",
   "execution_count": null,
   "metadata": {},
   "outputs": [],
   "source": []
  },
  {
   "cell_type": "markdown",
   "metadata": {},
   "source": [
    "# Generate and Plot Sum Up Spectra"
   ]
  },
  {
   "cell_type": "code",
   "execution_count": 23,
   "metadata": {},
   "outputs": [
    {
     "data": {
      "application/vnd.jupyter.widget-view+json": {
       "model_id": "2928f9986a564cabb92f0e97f15b69a6",
       "version_major": 2,
       "version_minor": 0
      },
      "text/plain": [
       "interactive(children=(Dropdown(description='Sub.Exp.:', options=(1,), value=1), Dropdown(description='Slab:', …"
      ]
     },
     "metadata": {},
     "output_type": "display_data"
    }
   ],
   "source": [
    "datFutPhBSl_Sum, SUS = genSumUpDat(foldPath, datFutPhBSl)\n",
    "clls = [\"#db6030ff\", \"#80000aff\", \"Red\", \"Green\", \"Blue\", \"Yellow\", \"Cyan\", \"Magenta\", \"Black\", \"Grey\"]\n",
    "interSumUpSp(foldPath, datFutPhBSl_Sum, ppms, clls = clls) # Functions to visualise the sum up spectra in an interactive plot"
   ]
  },
  {
   "cell_type": "code",
   "execution_count": null,
   "metadata": {},
   "outputs": [],
   "source": []
  },
  {
   "cell_type": "markdown",
   "metadata": {},
   "source": [
    "# Check Any Spectra (Including Sum Up) Bandwidth"
   ]
  },
  {
   "cell_type": "code",
   "execution_count": 24,
   "metadata": {},
   "outputs": [
    {
     "data": {
      "application/vnd.jupyter.widget-view+json": {
       "model_id": "562cb257434f4580afcf51fcea274a4c",
       "version_major": 2,
       "version_minor": 0
      },
      "text/plain": [
       "interactive(children=(Dropdown(description='Sub.Exp.:', options=(1,), value=1), Dropdown(description='Slab:', …"
      ]
     },
     "metadata": {},
     "output_type": "display_data"
    }
   ],
   "source": [
    "getFWHM(foldPath, datFutPhBSl, datFutPhBSl_Sum, ppms, metDat, machi) # Functions to display spectra to estimate the width of any desire peak at any point"
   ]
  },
  {
   "cell_type": "code",
   "execution_count": null,
   "metadata": {},
   "outputs": [],
   "source": []
  },
  {
   "cell_type": "markdown",
   "metadata": {},
   "source": [
    "# Check Any Spectra (Including Sum Up) SNR"
   ]
  },
  {
   "cell_type": "code",
   "execution_count": null,
   "metadata": {},
   "outputs": [
    {
     "data": {
      "application/vnd.jupyter.widget-view+json": {
       "model_id": "bf25c0f791844e759dbf3e87dd0a6975",
       "version_major": 2,
       "version_minor": 0
      },
      "text/plain": [
       "interactive(children=(Dropdown(description='Sub.Exp.:', options=(1, 2), value=1), Dropdown(description='Slab:'…"
      ]
     },
     "metadata": {},
     "output_type": "display_data"
    }
   ],
   "source": [
    "getSNR(foldPath, datFutPhBSl, datFutPhBSl_Sum, ppms)"
   ]
  },
  {
   "cell_type": "code",
   "execution_count": null,
   "metadata": {},
   "outputs": [],
   "source": []
  },
  {
   "cell_type": "markdown",
   "metadata": {},
   "source": [
    "# Integration"
   ]
  },
  {
   "cell_type": "code",
   "execution_count": 95,
   "metadata": {},
   "outputs": [
    {
     "data": {
      "application/vnd.jupyter.widget-view+json": {
       "model_id": "0dbec46cc275476d9167f830a1226e6c",
       "version_major": 2,
       "version_minor": 0
      },
      "text/plain": [
       "interactive(children=(Dropdown(description='Sub.Exp.:', options=(1,), value=1), Dropdown(description='Slab:', …"
      ]
     },
     "metadata": {},
     "output_type": "display_data"
    }
   ],
   "source": [
    "interactIntegrals(foldPath, datFutPhBSl, lngrps, numWells, ppms)"
   ]
  },
  {
   "cell_type": "code",
   "execution_count": null,
   "metadata": {},
   "outputs": [],
   "source": []
  },
  {
   "cell_type": "markdown",
   "metadata": {},
   "source": [
    "#### Plot Integration Over Time"
   ]
  },
  {
   "cell_type": "code",
   "execution_count": null,
   "metadata": {},
   "outputs": [
    {
     "data": {
      "application/vnd.jupyter.widget-view+json": {
       "model_id": "9553a97b212440b4b7be21c4a051bbda",
       "version_major": 2,
       "version_minor": 0
      },
      "text/plain": [
       "interactive(children=(Dropdown(description='Sub.Exp.:', options=(1,), value=1), Dropdown(description='Slab:', …"
      ]
     },
     "metadata": {},
     "output_type": "display_data"
    }
   ],
   "source": [
    "integVals, integPPMS, integInte, intPars = getIntegrals(foldPath, datFutPhBSl, ppms) # Function to extract the integration regions assigned before and compute the AUC for each. \n",
    "interIntegrals(foldPath, datco3, datFutPhBSl, integVals, timVecs) # Function to interactively display the integration resutls for all subexperiments"
   ]
  },
  {
   "cell_type": "code",
   "execution_count": null,
   "metadata": {},
   "outputs": [],
   "source": []
  },
  {
   "cell_type": "markdown",
   "metadata": {},
   "source": [
    "#### Plot Integration Ratios"
   ]
  },
  {
   "cell_type": "code",
   "execution_count": null,
   "metadata": {},
   "outputs": [
    {
     "data": {
      "application/vnd.jupyter.widget-view+json": {
       "model_id": "f4a9962995fc4eb8b3570b6f12b0d607",
       "version_major": 2,
       "version_minor": 0
      },
      "text/plain": [
       "interactive(children=(Dropdown(description='Sub.Exp.:', options=(1,), value=1), Dropdown(description='Slab:', …"
      ]
     },
     "metadata": {},
     "output_type": "display_data"
    }
   ],
   "source": [
    "interIntegralsRatios(foldPath, datco3, datFutPhBSl, integVals, timVecs, SUS) # Functions to interactively visualise AUC of data and ratios"
   ]
  },
  {
   "cell_type": "code",
   "execution_count": null,
   "metadata": {},
   "outputs": [],
   "source": []
  },
  {
   "cell_type": "markdown",
   "metadata": {},
   "source": [
    "# Add a note file to remind user of things for pre-processed data. "
   ]
  },
  {
   "cell_type": "code",
   "execution_count": 86,
   "metadata": {},
   "outputs": [],
   "source": [
    "getDatFuture(lngrps, numWells, foldsDis, lineborad, SUS, foldPath) # Function to extract important info about the processing to remind the user the next time it tries to process it again. It also asks the user if they want to add any additional comment for the future. Careful since every time you run this function, the previous file will be overwritten. "
   ]
  },
  {
   "cell_type": "code",
   "execution_count": null,
   "metadata": {},
   "outputs": [],
   "source": []
  },
  {
   "cell_type": "code",
   "execution_count": null,
   "metadata": {},
   "outputs": [],
   "source": []
  },
  {
   "cell_type": "code",
   "execution_count": null,
   "metadata": {},
   "outputs": [],
   "source": []
  },
  {
   "cell_type": "code",
   "execution_count": null,
   "metadata": {},
   "outputs": [],
   "source": []
  },
  {
   "cell_type": "code",
   "execution_count": null,
   "metadata": {},
   "outputs": [],
   "source": []
  },
  {
   "cell_type": "code",
   "execution_count": null,
   "metadata": {},
   "outputs": [],
   "source": []
  },
  {
   "cell_type": "code",
   "execution_count": null,
   "metadata": {},
   "outputs": [],
   "source": []
  },
  {
   "cell_type": "code",
   "execution_count": null,
   "metadata": {},
   "outputs": [],
   "source": []
  },
  {
   "cell_type": "code",
   "execution_count": null,
   "metadata": {},
   "outputs": [],
   "source": []
  },
  {
   "cell_type": "code",
   "execution_count": null,
   "metadata": {},
   "outputs": [],
   "source": []
  },
  {
   "cell_type": "code",
   "execution_count": null,
   "metadata": {},
   "outputs": [],
   "source": []
  },
  {
   "cell_type": "code",
   "execution_count": null,
   "metadata": {},
   "outputs": [],
   "source": []
  }
 ],
 "metadata": {
  "kernelspec": {
   "display_name": "base",
   "language": "python",
   "name": "python3"
  },
  "language_info": {
   "codemirror_mode": {
    "name": "ipython",
    "version": 3
   },
   "file_extension": ".py",
   "mimetype": "text/x-python",
   "name": "python",
   "nbconvert_exporter": "python",
   "pygments_lexer": "ipython3",
   "version": "3.11.5"
  }
 },
 "nbformat": 4,
 "nbformat_minor": 2
}
